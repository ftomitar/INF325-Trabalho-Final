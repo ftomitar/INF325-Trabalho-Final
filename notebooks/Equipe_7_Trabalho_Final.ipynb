{
 "cells": [
  {
   "cell_type": "markdown",
   "source": [
    "# Trabalho Final - Equipe 7"
   ],
   "metadata": {}
  },
  {
   "cell_type": "markdown",
   "source": [
    "## Sobre a base de dados\n",
    "\n",
    "A base de dados do trabalho possui os seguintes datasets:\n",
    "\n",
    "**Collections:**\n",
    "* historico\n",
    "* loja\n",
    "* categoria\n",
    "* produto\n",
    "* usuario\n",
    "\n",
    "**Consultas:**\n",
    "* Produtos mais comprados\n",
    "* Produtos mais comprados para uma determinada forma de pagamento\n",
    "* Produtos comprados por um usuário\n",
    "* Quantidade de pedidos mensal\n",
    "* Volume de vendas por loja e valor faturado"
   ],
   "metadata": {}
  },
  {
   "cell_type": "markdown",
   "source": [
    "## Usando Python"
   ],
   "metadata": {}
  },
  {
   "cell_type": "code",
   "execution_count": 11,
   "source": [
    "from pymongo import MongoClient\n",
    "from pprintpp import pprint\n",
    "import warnings\n",
    "warnings.filterwarnings('ignore')\n",
    "mongoclient = MongoClient('localhost', 27017)\n",
    "db = mongoclient.equipe7\n",
    "print(db)"
   ],
   "outputs": [
    {
     "output_type": "stream",
     "name": "stdout",
     "text": [
      "Database(MongoClient(host=['localhost:27017'], document_class=dict, tz_aware=False, connect=True), 'equipe7')\n"
     ]
    }
   ],
   "metadata": {}
  },
  {
   "cell_type": "markdown",
   "source": [
    "### [Query 1] Produtos mais comprados"
   ],
   "metadata": {}
  },
  {
   "cell_type": "code",
   "execution_count": 68,
   "source": [
    "result = db.historico.aggregate([\n",
    "    { \"$group\": \n",
    "     { \"_id\": { \"idProduto\": \"$produtos.idProduto\", \"nome\": \"$produtos.nomeProduto\" },\n",
    "       \"count\": { \"$sum\": 1 } } },\n",
    "    { \"$sort\": { \"count\": -1 } },\n",
    "])\n",
    "pprint(list(result))"
   ],
   "outputs": [
    {
     "output_type": "stream",
     "name": "stdout",
     "text": [
      "[\n",
      "    {\n",
      "        '_id': {\n",
      "            'idProduto': [ObjectId('613c9f65f4cffd38e6de0c3c')],\n",
      "            'nome': ['Gilette para gigantes'],\n",
      "        },\n",
      "        'count': 6,\n",
      "    },\n",
      "    {\n",
      "        '_id': {\n",
      "            'idProduto': [ObjectId('613d3b25f4cffd38e6de39c7')],\n",
      "            'nome': ['Gilette para anoes'],\n",
      "        },\n",
      "        'count': 3,\n",
      "    },\n",
      "    {\n",
      "        '_id': {\n",
      "            'idProduto': [ObjectId('613c9f65f4cffd38e6de0c3c')],\n",
      "            'nome': ['Gilette para anoes'],\n",
      "        },\n",
      "        'count': 2,\n",
      "    },\n",
      "    {\n",
      "        '_id': {\n",
      "            'idProduto': [ObjectId('613d3b7ef4cffd38e6de3a08')],\n",
      "            'nome': ['Gilette'],\n",
      "        },\n",
      "        'count': 2,\n",
      "    },\n",
      "]\n"
     ]
    }
   ],
   "metadata": {}
  },
  {
   "cell_type": "markdown",
   "source": [
    "### [Query 2] Produtos mais comprados para uma determinada forma de pagamento"
   ],
   "metadata": {}
  },
  {
   "cell_type": "code",
   "execution_count": 73,
   "source": [
    "result = db.historico.aggregate([\n",
    "    { \"$group\": \n",
    "     { \"_id\": { \"idProduto\": \"$produtos.idProduto\", \"nome\": \"$produtos.nomeProduto\",\n",
    "                 \"payment\": \"$pagamento.meio\"},\n",
    "       \"count\": { \"$sum\": 1 } } },\n",
    "    { \"$sort\": { \"count\": -1 } },\n",
    "])\n",
    "pprint(list(result))"
   ],
   "outputs": [
    {
     "output_type": "stream",
     "name": "stdout",
     "text": [
      "[\n",
      "    {\n",
      "        '_id': {\n",
      "            'idProduto': [ObjectId('613c9f65f4cffd38e6de0c3c')],\n",
      "            'nome': ['Gilette para gigantes'],\n",
      "            'payment': 'Cartao Credito',\n",
      "        },\n",
      "        'count': 6,\n",
      "    },\n",
      "    {\n",
      "        '_id': {\n",
      "            'idProduto': [ObjectId('613d3b25f4cffd38e6de39c7')],\n",
      "            'nome': ['Gilette para anoes'],\n",
      "            'payment': 'Cartao Credito',\n",
      "        },\n",
      "        'count': 3,\n",
      "    },\n",
      "    {\n",
      "        '_id': {\n",
      "            'idProduto': [ObjectId('613c9f65f4cffd38e6de0c3c')],\n",
      "            'nome': ['Gilette para anoes'],\n",
      "            'payment': 'Cartao Credito',\n",
      "        },\n",
      "        'count': 2,\n",
      "    },\n",
      "    {\n",
      "        '_id': {\n",
      "            'idProduto': [ObjectId('613d3b7ef4cffd38e6de3a08')],\n",
      "            'nome': ['Gilette'],\n",
      "            'payment': 'Cartao Credito',\n",
      "        },\n",
      "        'count': 2,\n",
      "    },\n",
      "]\n"
     ]
    }
   ],
   "metadata": {}
  },
  {
   "cell_type": "markdown",
   "source": [
    "### [Query 3] Produtos comprados por um usuário"
   ],
   "metadata": {}
  },
  {
   "cell_type": "code",
   "execution_count": 76,
   "source": [
    "result = db.historico.aggregate([\n",
    "    { \"$group\": \n",
    "     { \"_id\": { \"idProduto\": \"$produtos.idProduto\", \"nomeProduto\": \"$produtos.nomeProduto\",\n",
    "                \"idUsuario\": \"$usuarioId\", \"nomeUsuario\": \"$nome\"}\n",
    "     }\n",
    "    }\n",
    "])\n",
    "pprint(list(result))"
   ],
   "outputs": [
    {
     "output_type": "stream",
     "name": "stdout",
     "text": [
      "[\n",
      "    {\n",
      "        '_id': {\n",
      "            'idProduto': [ObjectId('613d3b7ef4cffd38e6de3a08')],\n",
      "            'idUsuario': ObjectId('613ca0b9f4cffd38e6de0d32'),\n",
      "            'nomeProduto': ['Gilette'],\n",
      "            'nomeUsuario': 'Edson Leonardo Ribeiro',\n",
      "        },\n",
      "    },\n",
      "    {\n",
      "        '_id': {\n",
      "            'idProduto': [ObjectId('613c9f65f4cffd38e6de0c3c')],\n",
      "            'idUsuario': ObjectId('613ca0b9f4cffd38e6de0d32'),\n",
      "            'nomeProduto': ['Gilette para gigantes'],\n",
      "            'nomeUsuario': 'Edson Leonardo Ribeiro',\n",
      "        },\n",
      "    },\n",
      "    {\n",
      "        '_id': {\n",
      "            'idProduto': [ObjectId('613d3b25f4cffd38e6de39c7')],\n",
      "            'idUsuario': ObjectId('613ca0b9f4cffd38e6de0d32'),\n",
      "            'nomeProduto': ['Gilette para anoes'],\n",
      "            'nomeUsuario': 'Edson Leonardo Ribeiro',\n",
      "        },\n",
      "    },\n",
      "    {\n",
      "        '_id': {\n",
      "            'idProduto': [ObjectId('613c9f65f4cffd38e6de0c3c')],\n",
      "            'idUsuario': ObjectId('613ca0b9f4cffd38e6de0d32'),\n",
      "            'nomeProduto': ['Gilette para anoes'],\n",
      "            'nomeUsuario': 'Edson Leonardo Ribeiro',\n",
      "        },\n",
      "    },\n",
      "]\n"
     ]
    }
   ],
   "metadata": {}
  },
  {
   "cell_type": "markdown",
   "source": [
    "### [Query 4] Quantidade de pedidos mensal"
   ],
   "metadata": {}
  },
  {
   "cell_type": "code",
   "execution_count": 80,
   "source": [
    "result = db.historico.aggregate([\n",
    "    { \"$group\": \n",
    "     { \"_id\": { \"$substr\": [\"$data\", 5, 2]},  \n",
    "       \"count\": { \"$sum\": 1 } } },\n",
    "    { \"$sort\": { \"count\": -1 } },\n",
    "])\n",
    "pprint(list(result))"
   ],
   "outputs": [
    {
     "output_type": "stream",
     "name": "stdout",
     "text": [
      "[{'_id': '-', 'count': 13}]\n"
     ]
    }
   ],
   "metadata": {}
  },
  {
   "cell_type": "markdown",
   "source": [
    "### [Query 5]  Volume de vendas por loja e valor faturado"
   ],
   "metadata": {}
  },
  {
   "cell_type": "code",
   "execution_count": 83,
   "source": [
    "result = db.historico.aggregate([\n",
    "    { \"$group\": \n",
    "     { \"_id\": { \"idLoja\": \"$produtos.idLoja\", \"nome\": \"$produtos.nomeLoja\" },\n",
    "       \"count\": { \"$sum\": 1 },\n",
    "       \"valorFaturado\": { \"$sum\": \"$valorProdutos\" } } },\n",
    "    { \"$sort\": { \"count\": -1 } },\n",
    "])\n",
    "pprint(list(result))"
   ],
   "outputs": [
    {
     "output_type": "stream",
     "name": "stdout",
     "text": [
      "[\n",
      "    {\n",
      "        '_id': {\n",
      "            'idLoja': [ObjectId('613c996bf4cffd38e6de0a30')],\n",
      "            'nome': ['Casas Bahia'],\n",
      "        },\n",
      "        'count': 13,\n",
      "        'valorFaturado': 6935.0,\n",
      "    },\n",
      "]\n"
     ]
    }
   ],
   "metadata": {}
  }
 ],
 "metadata": {
  "kernelspec": {
   "display_name": "Python 3",
   "language": "python",
   "name": "python3"
  },
  "language_info": {
   "codemirror_mode": {
    "name": "ipython",
    "version": 3
   },
   "file_extension": ".py",
   "mimetype": "text/x-python",
   "name": "python",
   "nbconvert_exporter": "python",
   "pygments_lexer": "ipython3",
   "version": "3.7.10"
  }
 },
 "nbformat": 4,
 "nbformat_minor": 4
}