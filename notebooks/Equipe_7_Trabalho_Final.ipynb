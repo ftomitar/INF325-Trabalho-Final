{
 "cells": [
  {
   "cell_type": "markdown",
   "metadata": {},
   "source": [
    "# Trabalho Final - Equipe 7"
   ]
  },
  {
   "cell_type": "markdown",
   "metadata": {},
   "source": [
    "## Sobre a base de dados\n",
    "\n",
    "A base de dados do trabalho possui os seguintes datasets:\n",
    "\n",
    "**Collections:**\n",
    "* \n",
    "* \n",
    "* \n",
    "* \n",
    "* "
   ]
  },
  {
   "cell_type": "markdown",
   "metadata": {},
   "source": [
    "## Usando Python"
   ]
  },
  {
   "cell_type": "code",
   "execution_count": 1,
   "metadata": {},
   "outputs": [
    {
     "name": "stdout",
     "output_type": "stream",
     "text": [
      "Database(MongoClient(host=['localhost:27017'], document_class=dict, tz_aware=False, connect=True), 'equipe7')\n"
     ]
    }
   ],
   "source": [
    "from pymongo import MongoClient\n",
    "from pprintpp import pprint\n",
    "import warnings\n",
    "warnings.filterwarnings('ignore')\n",
    "mongoclient = MongoClient('localhost', 27017)\n",
    "db = mongoclient.equipe7\n",
    "print(db)"
   ]
  },
  {
   "cell_type": "markdown",
   "metadata": {},
   "source": [
    "## Inserindo dados"
   ]
  },
  {
   "cell_type": "code",
   "execution_count": 3,
   "metadata": {},
   "outputs": [
    {
     "name": "stdout",
     "output_type": "stream",
     "text": [
      "ObjectId('613d330661daa3dd0aeb87fb')\n"
     ]
    }
   ],
   "source": [
    "result = db.usuario.insert(\n",
    "    {\n",
    "        'cpf': '44433322211',\n",
    "        'email': 'andrealves@gmail.com',\n",
    "        'emissor': 'SSP',\n",
    "        'endereco': [\n",
    "            {\n",
    "                'cep': '01238-000',\n",
    "                'cidade': 'Sao Paulo',\n",
    "                'complemento': 'Apto 21',\n",
    "                'ehPrincipal': True,\n",
    "                'estado': 'Sao Paulo',\n",
    "                'logradouro': 'Avenida Higienopolis',\n",
    "                'numero': '938',\n",
    "                'pais': 'Brasil',\n",
    "            },\n",
    "            {\n",
    "                'cep': '01323-050',\n",
    "                'cidade': 'Sao Paulo',\n",
    "                'complemento': 'Perto do Shopping',\n",
    "                'ehPrincipal': False,\n",
    "                'estado': 'Sao Paulo',\n",
    "                'logradouro': 'Rua Francisco Gonçalves de Andrade Machado',\n",
    "                'numero': '120',\n",
    "                'pais': 'Brasil',\n",
    "            },\n",
    "        ],\n",
    "        'genero': 'Masculino',\n",
    "        'nome': 'Andre Alves',\n",
    "        'rg': '312345678',\n",
    "        'telefone': [\n",
    "            {\n",
    "                'descricao': 'celular',\n",
    "                'ehPrincipal': True,\n",
    "                'telefone': '11998877665',\n",
    "            },\n",
    "            {\n",
    "                'descricao': 'casa',\n",
    "                'ehPrincipal': False,\n",
    "                'telefone': '1144332211',\n",
    "            },\n",
    "        ],\n",
    "    }\n",
    ")\n",
    "pprint(result)"
   ]
  },
  {
   "cell_type": "code",
   "execution_count": 2,
   "metadata": {},
   "outputs": [],
   "source": [
    "result = db.usuario.insert(\n",
    "    {\n",
    "        'cpf': '44455566677',\n",
    "        'email': 'brunar@gmail.com',\n",
    "        'emissor': 'SSP',\n",
    "        'endereco': [\n",
    "            {\n",
    "                'cep': '01230-001',\n",
    "                'cidade': 'Sao Paulo',\n",
    "                'complemento': 'Apto 72',\n",
    "                'ehPrincipal': True,\n",
    "                'estado': 'Sao Paulo',\n",
    "                'logradouro': 'Rua Albuquerque Lins',\n",
    "                'numero': '928',\n",
    "                'pais': 'Brasil',\n",
    "            }\n",
    "        ],\n",
    "        'genero': 'Feminino',\n",
    "        'nome': 'Bruna Rodrigues',\n",
    "        'rg': '312345678',\n",
    "        'telefone': [\n",
    "            {\n",
    "                'descricao': 'celular',\n",
    "                'ehPrincipal': True,\n",
    "                'telefone': '11998812345',\n",
    "            }\n",
    "        ],\n",
    "    }\n",
    ")\n",
    "pprint(result)"
   ]
  },
  {
   "cell_type": "code",
   "execution_count": 4,
   "metadata": {},
   "outputs": [
    {
     "name": "stdout",
     "output_type": "stream",
     "text": [
      "ObjectId('613d332e61daa3dd0aeb87fc')\n"
     ]
    }
   ],
   "source": [
    "result = db.usuario.insert(\n",
    "    {\n",
    "        'cpf': '41234567890',\n",
    "        'email': 'caiooliveira@hotmail.com',\n",
    "        'emissor': 'SSP',\n",
    "        'endereco': [\n",
    "            {\n",
    "                'cep': '05010-000',\n",
    "                'cidade': 'Sao Paulo',\n",
    "                'ehPrincipal': True,\n",
    "                'estado': 'Sao Paulo',\n",
    "                'logradouro': 'Rua Caiubi',\n",
    "                'numero': '1056',\n",
    "                'pais': 'Brasil',\n",
    "            }\n",
    "        ],\n",
    "        'genero': 'Masculino',\n",
    "        'nome': 'Caio Oliveira',\n",
    "        'rg': '398765432',\n",
    "        'telefone': [\n",
    "            {\n",
    "                'descricao': 'celular',\n",
    "                'ehPrincipal': True,\n",
    "                'telefone': '11991234567',\n",
    "            }\n",
    "        ],\n",
    "    }\n",
    ")\n",
    "pprint(result)"
   ]
  },
  {
   "cell_type": "code",
   "execution_count": 5,
   "metadata": {},
   "outputs": [
    {
     "name": "stdout",
     "output_type": "stream",
     "text": [
      "ObjectId('613d333161daa3dd0aeb87fd')\n"
     ]
    }
   ],
   "source": [
    "result = db.usuario.insert(\n",
    "    {\n",
    "        'cpf': '51234567890',\n",
    "        'email': 'daniferreira@yahoo.com',\n",
    "        'emissor': 'SSP',\n",
    "        'endereco': [\n",
    "            {\n",
    "                'cep': '04298-060',\n",
    "                'cidade': 'Sao Paulo',\n",
    "                'complemento': 'Apto 34',\n",
    "                'ehPrincipal': True,\n",
    "                'estado': 'Sao Paulo',\n",
    "                'logradouro': 'Rua Alberto Afonso Martins',\n",
    "                'numero': '66',\n",
    "                'pais': 'Brasil',\n",
    "            }\n",
    "        ],\n",
    "        'genero': 'Feminino',\n",
    "        'nome': 'Daniela Ferreira',\n",
    "        'rg': '431234567',\n",
    "        'telefone': [\n",
    "            {\n",
    "                'descricao': 'casa',\n",
    "                'ehPrincipal': True,\n",
    "                'telefone': '1143219876',\n",
    "            }\n",
    "        ],\n",
    "    }\n",
    ")\n",
    "pprint(result)"
   ]
  },
  {
   "cell_type": "code",
   "execution_count": 2,
   "metadata": {},
   "outputs": [],
   "source": [
    "result = db.usuario.insert(\n",
    "    {\n",
    "        'cpf': '50123456789',\n",
    "        'email': 'eduardop@gmail.com',\n",
    "        'emissor': 'SSP',\n",
    "        'endereco': [\n",
    "            {\n",
    "                'cep': '03135-020',\n",
    "                'cidade': 'Sao Paulo',\n",
    "                'ehPrincipal': True,\n",
    "                'estado': 'Sao Paulo',\n",
    "                'logradouro': 'Rua Dante Alighieri',\n",
    "                'numero': '150',\n",
    "                'pais': 'Brasil',\n",
    "            }\n",
    "        ],\n",
    "        'genero': 'Masculino',\n",
    "        'nome': 'Eduardo Pereira',\n",
    "        'rg': '456789012',\n",
    "        'telefone': [\n",
    "            {\n",
    "                'descricao': 'celular',\n",
    "                'ehPrincipal': True,\n",
    "                'telefone': '11987654321',\n",
    "            }\n",
    "        ],\n",
    "    }\n",
    ")\n",
    "pprint(result)"
   ]
  },
  {
   "cell_type": "code",
   "execution_count": 6,
   "metadata": {},
   "outputs": [
    {
     "name": "stdout",
     "output_type": "stream",
     "text": [
      "[\n",
      "    {\n",
      "        '_id': ObjectId('613ca0b9f4cffd38e6de0d32'),\n",
      "        'cpf': '231321321',\n",
      "        'email': 'a@a.com.br',\n",
      "        'emissor': 'SSP',\n",
      "        'endereco': [\n",
      "            {\n",
      "                'cep': '00005-020',\n",
      "                'cidade': 'Sao Paulo',\n",
      "                'complemento': 'Perto do Bar do Ze',\n",
      "                'ehPrincipal': True,\n",
      "                'estado': 'Sao Paulo',\n",
      "                'logradouro': 'Rua A',\n",
      "                'numero': '-',\n",
      "                'pais': 'Brasil',\n",
      "            },\n",
      "            {\n",
      "                'cep': '00005-030',\n",
      "                'cidade': 'Sao Paulo',\n",
      "                'complemento': 'Perto do Shopping',\n",
      "                'ehPrincipal': False,\n",
      "                'estado': 'Sao Paulo',\n",
      "                'logradouro': 'Rua B',\n",
      "                'numero': '-',\n",
      "                'pais': 'Brasil',\n",
      "            },\n",
      "        ],\n",
      "        'genero': 'Masculino',\n",
      "        'nome': 'Gilette',\n",
      "        'rg': '515551',\n",
      "        'telefone': [\n",
      "            {\n",
      "                'descricao': 'trabalho',\n",
      "                'ehPrincipal': True,\n",
      "                'telefone': '0123456789',\n",
      "            },\n",
      "            {\n",
      "                'descricao': 'casa',\n",
      "                'ehPrincipal': True,\n",
      "                'telefone': '0123456789',\n",
      "            },\n",
      "        ],\n",
      "    },\n",
      "    {\n",
      "        '_id': ObjectId('613d32e061daa3dd0aeb87fa'),\n",
      "        'cpf': '44455566677',\n",
      "        'email': 'brunar@gmail.com',\n",
      "        'emissor': 'SSP',\n",
      "        'endereco': [\n",
      "            {\n",
      "                'cep': '01230-001',\n",
      "                'cidade': 'Sao Paulo',\n",
      "                'complemento': 'Apto 72',\n",
      "                'ehPrincipal': True,\n",
      "                'estado': 'Sao Paulo',\n",
      "                'logradouro': 'Rua Albuquerque Lins',\n",
      "                'numero': '928',\n",
      "                'pais': 'Brasil',\n",
      "            },\n",
      "        ],\n",
      "        'genero': 'Feminino',\n",
      "        'nome': 'Bruna Rodrigues',\n",
      "        'rg': '312345678',\n",
      "        'telefone': [\n",
      "            {\n",
      "                'descricao': 'celular',\n",
      "                'ehPrincipal': True,\n",
      "                'telefone': '11998812345',\n",
      "            },\n",
      "        ],\n",
      "    },\n",
      "    {\n",
      "        '_id': ObjectId('613d330661daa3dd0aeb87fb'),\n",
      "        'cpf': '44433322211',\n",
      "        'email': 'andrealves@gmail.com',\n",
      "        'emissor': 'SSP',\n",
      "        'endereco': [\n",
      "            {\n",
      "                'cep': '01238-000',\n",
      "                'cidade': 'Sao Paulo',\n",
      "                'complemento': 'Apto 21',\n",
      "                'ehPrincipal': True,\n",
      "                'estado': 'Sao Paulo',\n",
      "                'logradouro': 'Avenida Higienopolis',\n",
      "                'numero': '938',\n",
      "                'pais': 'Brasil',\n",
      "            },\n",
      "            {\n",
      "                'cep': '01323-050',\n",
      "                'cidade': 'Sao Paulo',\n",
      "                'complemento': 'Perto do Shopping',\n",
      "                'ehPrincipal': False,\n",
      "                'estado': 'Sao Paulo',\n",
      "                'logradouro': 'Rua Francisco Gonçalves de Andrade Machado',\n",
      "                'numero': '120',\n",
      "                'pais': 'Brasil',\n",
      "            },\n",
      "        ],\n",
      "        'genero': 'Masculino',\n",
      "        'nome': 'Andre Alves',\n",
      "        'rg': '312345678',\n",
      "        'telefone': [\n",
      "            {\n",
      "                'descricao': 'celular',\n",
      "                'ehPrincipal': True,\n",
      "                'telefone': '11998877665',\n",
      "            },\n",
      "            {\n",
      "                'descricao': 'casa',\n",
      "                'ehPrincipal': False,\n",
      "                'telefone': '1144332211',\n",
      "            },\n",
      "        ],\n",
      "    },\n",
      "    {\n",
      "        '_id': ObjectId('613d332e61daa3dd0aeb87fc'),\n",
      "        'cpf': '41234567890',\n",
      "        'email': 'caiooliveira@hotmail.com',\n",
      "        'emissor': 'SSP',\n",
      "        'endereco': [\n",
      "            {\n",
      "                'cep': '05010-000',\n",
      "                'cidade': 'Sao Paulo',\n",
      "                'ehPrincipal': True,\n",
      "                'estado': 'Sao Paulo',\n",
      "                'logradouro': 'Rua Caiubi',\n",
      "                'numero': '1056',\n",
      "                'pais': 'Brasil',\n",
      "            },\n",
      "        ],\n",
      "        'genero': 'Masculino',\n",
      "        'nome': 'Caio Oliveira',\n",
      "        'rg': '398765432',\n",
      "        'telefone': [\n",
      "            {\n",
      "                'descricao': 'celular',\n",
      "                'ehPrincipal': True,\n",
      "                'telefone': '11991234567',\n",
      "            },\n",
      "        ],\n",
      "    },\n",
      "    {\n",
      "        '_id': ObjectId('613d333161daa3dd0aeb87fd'),\n",
      "        'cpf': '51234567890',\n",
      "        'email': 'daniferreira@yahoo.com',\n",
      "        'emissor': 'SSP',\n",
      "        'endereco': [\n",
      "            {\n",
      "                'cep': '04298-060',\n",
      "                'cidade': 'Sao Paulo',\n",
      "                'complemento': 'Apto 34',\n",
      "                'ehPrincipal': True,\n",
      "                'estado': 'Sao Paulo',\n",
      "                'logradouro': 'Rua Alberto Afonso Martins',\n",
      "                'numero': '66',\n",
      "                'pais': 'Brasil',\n",
      "            },\n",
      "        ],\n",
      "        'genero': 'Feminino',\n",
      "        'nome': 'Daniela Ferreira',\n",
      "        'rg': '431234567',\n",
      "        'telefone': [\n",
      "            {\n",
      "                'descricao': 'casa',\n",
      "                'ehPrincipal': True,\n",
      "                'telefone': '1143219876',\n",
      "            },\n",
      "        ],\n",
      "    },\n",
      "]\n"
     ]
    }
   ],
   "source": [
    "usuarios = db.usuario.find()\n",
    "pprint(list(usuarios))"
   ]
  },
  {
   "cell_type": "markdown",
   "metadata": {},
   "source": [
    "### [Query 1] Produtos mais comprados"
   ]
  },
  {
   "cell_type": "code",
   "execution_count": 7,
   "metadata": {},
   "outputs": [
    {
     "name": "stdout",
     "output_type": "stream",
     "text": [
      "[ObjectId('613c9911f4cffd38e6de0a12')]\n"
     ]
    }
   ],
   "source": [
    "produtos = db.historico.find({}, {\"produtos\": 1, \"_id\": 0}).distinct(\"produtos.idProduto\")\n",
    "pprint(list(produtos))"
   ]
  },
  {
   "cell_type": "markdown",
   "metadata": {},
   "source": [
    "### [Query 2] Produtos mais comprados para uma determinada forma de pagamento"
   ]
  },
  {
   "cell_type": "code",
   "execution_count": null,
   "metadata": {},
   "outputs": [],
   "source": []
  },
  {
   "cell_type": "markdown",
   "metadata": {},
   "source": [
    "### [Query 3] Produtos comprados por um usuário"
   ]
  },
  {
   "cell_type": "code",
   "execution_count": null,
   "metadata": {},
   "outputs": [],
   "source": []
  },
  {
   "cell_type": "markdown",
   "metadata": {},
   "source": [
    "### [Query 4] Quantidade de pedidos mensal"
   ]
  },
  {
   "cell_type": "code",
   "execution_count": null,
   "metadata": {},
   "outputs": [],
   "source": []
  },
  {
   "cell_type": "markdown",
   "metadata": {},
   "source": [
    "### [Query 5] Volume de vendas por loja e valor faturado"
   ]
  },
  {
   "cell_type": "code",
   "execution_count": null,
   "metadata": {},
   "outputs": [],
   "source": []
  }
 ],
 "metadata": {
  "kernelspec": {
   "display_name": "Python 3",
   "language": "python",
   "name": "python3"
  },
  "language_info": {
   "codemirror_mode": {
    "name": "ipython",
    "version": 3
   },
   "file_extension": ".py",
   "mimetype": "text/x-python",
   "name": "python",
   "nbconvert_exporter": "python",
   "pygments_lexer": "ipython3",
   "version": "3.7.10"
  }
 },
 "nbformat": 4,
 "nbformat_minor": 4
}
